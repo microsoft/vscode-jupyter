{
    "cells": [
        {
            "cell_type": "markdown",
            "metadata": {},
            "source": [
                "# 1. Test Rendering a Sheet\n",
                "# Prerequisites\n",
                "\n",
                "### pip install ipysheet"
            ]
        },
        {
            "cell_type": "code",
            "execution_count": null,
            "metadata": {
                "scrolled": true
            },
            "outputs": [],
            "source": [
                "from ipywidgets import FloatSlider, IntSlider, Image\n",
                "import ipysheet\n",
                "\n",
                "sheet = ipysheet.sheet(rows=3, columns=4)\n",
                "cell1 = ipysheet.cell(0, 0, 'Hello')\n",
                "cell2 = ipysheet.cell(2, 0, 'World')\n",
                "cell_value = ipysheet.cell(2,2, 42.)\n",
                "sheet"
            ]
        }
    ],
    "metadata": {
        "celltoolbar": "Attachments",
        "file_extension": ".py",
        "interpreter": {
            "hash": "785edfce71b7b34600eacc1c40d1f7960d8cad3527bf2998465efd5555859783"
        },
        "kernelspec": {
            "display_name": "Python 3.8.12 ('.venvWidgets': venv)",
            "language": "python",
            "name": "python3"
        },
        "language_info": {
            "codemirror_mode": {
                "name": "ipython",
                "version": 3
            },
            "file_extension": ".py",
            "mimetype": "text/x-python",
            "name": "python",
            "nbconvert_exporter": "python",
            "pygments_lexer": "ipython3",
            "version": "3.8.12"
        },
        "mimetype": "text/x-python",
        "name": "python",
        "npconvert_exporter": "python",
        "pygments_lexer": "ipython3",
        "toc": {
            "base_numbering": 1,
            "nav_menu": {},
            "number_sections": false,
            "sideBar": false,
            "skip_h1_title": false,
            "title_cell": "Table of Contents",
            "title_sidebar": "Contents",
            "toc_cell": false,
            "toc_position": {},
            "toc_section_display": false,
            "toc_window_display": false
        },
        "version": 3
    },
    "nbformat": 4,
    "nbformat_minor": 2
}
