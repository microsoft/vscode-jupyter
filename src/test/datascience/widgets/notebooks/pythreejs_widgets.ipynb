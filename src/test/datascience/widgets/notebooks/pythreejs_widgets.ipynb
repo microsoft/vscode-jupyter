{
    "cells": [
        {
            "cell_type": "markdown",
            "metadata": {},
            "source": [
                "## Intall pythreejs\n",
                "pip install pythreejs"
            ]
        },
        {
            "cell_type": "code",
            "execution_count": 11,
            "metadata": {},
            "outputs": [],
            "source": [
                "from pythreejs import *\n",
                "from IPython.display import display\n",
                "from math import pi\n",
                "\n",
                "# Reduce repo churn for examples with embedded state:\n",
                "from pythreejs._example_helper import use_example_model_ids\n",
                "use_example_model_ids()\n",
                "\n",
                "BoxGeometry(\n",
                "    width=5,\n",
                "    height=10,\n",
                "    depth=15,\n",
                "    widthSegments=5,\n",
                "    heightSegments=10,\n",
                "    depthSegments=15)"
            ]
        }
    ],
    "metadata": {
        "file_extension": ".py",
        "language_info": {
            "codemirror_mode": {
                "name": "ipython",
                "version": 3
            },
            "name": "python",
            "version": "3.8.1-final"
        },
        "mimetype": "text/x-python",
        "name": "python",
        "npconvert_exporter": "python",
        "orig_nbformat": 2,
        "pygments_lexer": "ipython3",
        "version": 3
    },
    "nbformat": 4,
    "nbformat_minor": 2
}
