{
    "cells": [
        {
            "cell_type": "markdown",
            "metadata": {},
            "source": [
                "# 3. Test calculations (slider update cell value via python code)\n",
                "# Prerequisites\n",
                "\n",
                "### pip install ipysheet"
            ]
        },
        {
            "cell_type": "code",
            "execution_count": null,
            "metadata": {
                "scrolled": true
            },
            "outputs": [],
            "source": [
                "from ipywidgets import FloatSlider, IntSlider, Image\n",
                "import ipysheet\n",
                "\n",
                "from ipywidgets import FloatSlider, IntSlider, Image, IntText, link\n",
                "import ipysheet\n",
                "\n",
                "slider = IntSlider(description=\"Continuous Slider\", continuous_update=True, max=9999)\n",
                "textbox = IntText(description=\"Continuous Text\", continuous_update=True)\n",
                "\n",
                "link((slider, 'value'), (textbox, 'value'))\n",
                "\n",
                "slider"
            ]
        },
        {
            "cell_type": "code",
            "execution_count": null,
            "metadata": {},
            "outputs": [],
            "source": [
                "# Typing value into textbox will move slider\n",
                "# The value in cell will also get updated\n",
                "\n",
                "textbox"
            ]
        },
        {
            "cell_type": "code",
            "execution_count": null,
            "metadata": {},
            "outputs": [],
            "source": [
                "sheet = ipysheet.sheet()\n",
                "\n",
                "cell1 = ipysheet.cell(0, 0, slider, style={'min-width': '150px'})\n",
                "cell3 = ipysheet.cell(2, 2, 123.)\n",
                "cell_sum = ipysheet.cell(3, 2, 50.)\n",
                "\n",
                "@ipysheet.calculation(inputs=[(cell1, 'value'), cell3], output=cell_sum)\n",
                "def calculate(a, b):\n",
                "    return a + b\n",
                "\n",
                "sheet"
            ]
        }
    ],
    "metadata": {
        "celltoolbar": "Attachments",
        "file_extension": ".py",
        "interpreter": {
            "hash": "785edfce71b7b34600eacc1c40d1f7960d8cad3527bf2998465efd5555859783"
        },
        "kernelspec": {
            "display_name": "Python 3.8.12 ('.venvWidgets': venv)",
            "language": "python",
            "name": "python3"
        },
        "language_info": {
            "codemirror_mode": {
                "name": "ipython",
                "version": 3
            },
            "file_extension": ".py",
            "mimetype": "text/x-python",
            "name": "python",
            "nbconvert_exporter": "python",
            "pygments_lexer": "ipython3",
            "version": "3.8.12"
        },
        "mimetype": "text/x-python",
        "name": "python",
        "npconvert_exporter": "python",
        "pygments_lexer": "ipython3",
        "toc": {
            "base_numbering": 1,
            "nav_menu": {},
            "number_sections": false,
            "sideBar": false,
            "skip_h1_title": false,
            "title_cell": "Table of Contents",
            "title_sidebar": "Contents",
            "toc_cell": false,
            "toc_position": {},
            "toc_section_display": false,
            "toc_window_display": false
        },
        "version": 3
    },
    "nbformat": 4,
    "nbformat_minor": 2
}
