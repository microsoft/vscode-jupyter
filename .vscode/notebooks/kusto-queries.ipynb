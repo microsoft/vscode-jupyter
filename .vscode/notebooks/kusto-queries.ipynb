{
 "cells": [
  {
   "cell_type": "markdown",
   "source": [
    "This notebook should let you do queries for VS code telemetry (assuming you have access)\r\n",
    "\r\n",
    "You need a python kernel with kqlmagic installed for it to work"
   ],
   "metadata": {}
  },
  {
   "cell_type": "code",
   "execution_count": null,
   "source": [
    "# Run this cell if you don't have kqlmagic yet\r\n",
    "%pip install kqlmagic"
   ],
   "outputs": [],
   "metadata": {}
  },
  {
   "cell_type": "code",
   "execution_count": null,
   "source": [
    "# Run this cell to enable KQL in python notebooks\r\n",
    "%reload_ext Kqlmagic"
   ],
   "outputs": [],
   "metadata": {}
  },
  {
   "cell_type": "code",
   "execution_count": null,
   "source": [
    "# Run this cell to connect to the kql cluster\r\n",
    "%kql AzureDataExplorer://code;cluster='ddtelvscode';database='VSCodeExt'"
   ],
   "outputs": [],
   "metadata": {}
  },
  {
   "cell_type": "code",
   "execution_count": 4,
   "source": [
    "# Get number of raw session starts\r\n",
    "%kql RawEventsVSCodeExt | where ExtensionName contains \"ms-toolsai.jupyter\" | where EventName == tolower(\"ms-toolsai.jupyter/DS_INTERNAL.RAWKERNEL_SESSION_START_SUCCESS\") or tostring(Properties[\"originaleventname\"]) contains(\"RAWKERNEL_SESSION_START_EXCEPTION\") or EventName == tolower(\"ms-toolsai.jupyter/DS_INTERNAL.RAWKERNEL_SESSION_START_USER_CANCEL\") or EventName == tolower(\"ms-toolsai.jupyter/DS_INTERNAL.RAWKERNEL_SESSION_START_TIMEOUT\") | where ServerTimestamp > ago(7d) | summarize count() by EventName\r\n"
   ],
   "outputs": [
    {
     "output_type": "display_data",
     "data": {
      "text/plain": [
       "<IPython.core.display.HTML object>"
      ],
      "text/html": [
       "<html>\n",
       "        <head>\n",
       "            \n",
       "            \n",
       "        </head>\n",
       "        <body>\n",
       "            <div><p style=' padding: 10px; color: #3a87ad; background-color: #d9edf7; border-color: #bce9f1'>&nbsp;*&nbsp;VSCodeExt@ddtelvscode</p></div>\n",
       "        </body>\n",
       "        </html>"
      ]
     },
     "metadata": {}
    },
    {
     "output_type": "display_data",
     "data": {
      "text/plain": [
       "<IPython.core.display.HTML object>"
      ],
      "text/html": [
       "<html>\n",
       "        <head>\n",
       "            \n",
       "            <title>Kqlmagic - table</title>\n",
       "        </head>\n",
       "        <body>\n",
       "            <table>\n",
       "    <thead>\n",
       "        <tr>\n",
       "            <th>EventName</th>\n",
       "            <th>count_</th>\n",
       "        </tr>\n",
       "    </thead>\n",
       "    <tbody>\n",
       "        <tr>\n",
       "            <td>ms-toolsai.jupyter/ds_internal.rawkernel_session_start_success</td>\n",
       "            <td>1077675</td>\n",
       "        </tr>\n",
       "        <tr>\n",
       "            <td>ms-toolsai.jupyter/ds_internal.rawkernel_session_start_timeout</td>\n",
       "            <td>2221</td>\n",
       "        </tr>\n",
       "        <tr>\n",
       "            <td>ms-toolsai.jupyter/error</td>\n",
       "            <td>41</td>\n",
       "        </tr>\n",
       "    </tbody>\n",
       "</table>\n",
       "        </body>\n",
       "        </html>"
      ]
     },
     "metadata": {}
    },
    {
     "output_type": "display_data",
     "data": {
      "text/plain": [
       "<IPython.core.display.HTML object>"
      ],
      "text/html": [
       "<html>\n",
       "        <head>\n",
       "            \n",
       "            \n",
       "        </head>\n",
       "        <body>\n",
       "            <div><p style=' padding: 10px; color: #3a87ad; background-color: #d9edf7; border-color: #bce9f1'>Done&nbsp;(00:00.430):&nbsp;3&nbsp;records</p></div>\n",
       "        </body>\n",
       "        </html>"
      ]
     },
     "metadata": {}
    },
    {
     "output_type": "execute_result",
     "data": {
      "text/plain": [
       "[{'EventName': 'ms-toolsai.jupyter/ds_internal.rawkernel_session_start_success', 'count_': 1077675},\n",
       " {'EventName': 'ms-toolsai.jupyter/ds_internal.rawkernel_session_start_timeout', 'count_': 2221},\n",
       " {'EventName': 'ms-toolsai.jupyter/error', 'count_': 41}]"
      ],
      "text/html": []
     },
     "metadata": {},
     "execution_count": 4
    }
   ],
   "metadata": {}
  },
  {
   "cell_type": "code",
   "execution_count": 6,
   "source": [
    "# Example simpler query. All of query text has to be on same line though.\r\n",
    "%kql RawEventsVSCodeExt | where ExtensionName == \"ms-toolsai.jupyter\" | where EventName contains \"ms-toolsai.jupyter/datascience.notebook_trust_prompt_shown\" | summarize dcount(VSCodeMachineId)\r\n"
   ],
   "outputs": [
    {
     "output_type": "display_data",
     "data": {
      "text/plain": [
       "<IPython.core.display.HTML object>"
      ],
      "text/html": [
       "<html>\n",
       "        <head>\n",
       "            \n",
       "            \n",
       "        </head>\n",
       "        <body>\n",
       "            <div><p style=' padding: 10px; color: #3a87ad; background-color: #d9edf7; border-color: #bce9f1'>&nbsp;*&nbsp;VSCodeExt@ddtelvscode</p></div>\n",
       "        </body>\n",
       "        </html>"
      ]
     },
     "metadata": {}
    },
    {
     "output_type": "display_data",
     "data": {
      "text/plain": [
       "<IPython.core.display.HTML object>"
      ],
      "text/html": [
       "<html>\n",
       "        <head>\n",
       "            \n",
       "            <title>Kqlmagic - table</title>\n",
       "        </head>\n",
       "        <body>\n",
       "            <table>\n",
       "    <thead>\n",
       "        <tr>\n",
       "            <th>dcount_VSCodeMachineId</th>\n",
       "        </tr>\n",
       "    </thead>\n",
       "    <tbody>\n",
       "        <tr>\n",
       "            <td>50949</td>\n",
       "        </tr>\n",
       "    </tbody>\n",
       "</table>\n",
       "        </body>\n",
       "        </html>"
      ]
     },
     "metadata": {}
    },
    {
     "output_type": "display_data",
     "data": {
      "text/plain": [
       "<IPython.core.display.HTML object>"
      ],
      "text/html": [
       "<html>\n",
       "        <head>\n",
       "            \n",
       "            \n",
       "        </head>\n",
       "        <body>\n",
       "            <div><p style=' padding: 10px; color: #3a87ad; background-color: #d9edf7; border-color: #bce9f1'>Done&nbsp;(00:01.072):&nbsp;1&nbsp;records</p></div>\n",
       "        </body>\n",
       "        </html>"
      ]
     },
     "metadata": {}
    },
    {
     "output_type": "execute_result",
     "data": {
      "text/plain": [
       "[{'dcount_VSCodeMachineId': 50949}]"
      ],
      "text/html": []
     },
     "metadata": {},
     "execution_count": 6
    }
   ],
   "metadata": {}
  }
 ],
 "metadata": {
  "orig_nbformat": 4,
  "language_info": {
   "name": "python",
   "version": "3.9.6",
   "mimetype": "text/x-python",
   "codemirror_mode": {
    "name": "ipython",
    "version": 3
   },
   "pygments_lexer": "ipython3",
   "nbconvert_exporter": "python",
   "file_extension": ".py"
  },
  "kernelspec": {
   "name": "python3",
   "display_name": "Python 3.9.6 64-bit (windows store)"
  },
  "interpreter": {
   "hash": "80f97fa3b34780e22298c6b9d6b34f546adccdc25ebd9f49472acdb98af000e0"
  }
 },
 "nbformat": 4,
 "nbformat_minor": 2
}