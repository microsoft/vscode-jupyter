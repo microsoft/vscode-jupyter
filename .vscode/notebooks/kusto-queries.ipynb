{
 "cells": [
  {
   "cell_type": "markdown",
   "source": [
    "## Kusto Queries for the Jupyter Extension\r\n",
    "\r\n",
    "Requires kqlmagic in your kernel."
   ],
   "metadata": {}
  },
  {
   "cell_type": "code",
   "execution_count": null,
   "source": [
    "# Run this cell if you don't have kqlmagic yet\r\n",
    "%pip install kqlmagic"
   ],
   "outputs": [],
   "metadata": {}
  },
  {
   "cell_type": "code",
   "execution_count": null,
   "source": [
    "# Run this cell to enable KQL in python notebooks. This CELL needs to be run\r\n",
    "%reload_ext Kqlmagic"
   ],
   "outputs": [],
   "metadata": {}
  },
  {
   "cell_type": "code",
   "execution_count": null,
   "source": [
    "# Run this cell to connect to the kql cluster\r\n",
    "%kql AzureDataExplorer://code;cluster='ddtelvscode';database='VSCodeExt'"
   ],
   "outputs": [],
   "metadata": {}
  },
  {
   "cell_type": "code",
   "execution_count": null,
   "source": [
    "# Get number of raw session starts\r\n",
    "%kql RawEventsVSCodeExt | where ExtensionName contains \"ms-toolsai.jupyter\" | where EventName == tolower(\"ms-toolsai.jupyter/DS_INTERNAL.RAWKERNEL_SESSION_START_SUCCESS\") or tostring(Properties[\"originaleventname\"]) contains(\"RAWKERNEL_SESSION_START_EXCEPTION\") or EventName == tolower(\"ms-toolsai.jupyter/DS_INTERNAL.RAWKERNEL_SESSION_START_USER_CANCEL\") or EventName == tolower(\"ms-toolsai.jupyter/DS_INTERNAL.RAWKERNEL_SESSION_START_TIMEOUT\") | where ServerTimestamp > ago(7d) | summarize count() by EventName\r\n"
   ],
   "outputs": [],
   "metadata": {}
  },
  {
   "cell_type": "code",
   "execution_count": null,
   "source": [
    "# Example simpler query. All of query text has to be on same line though.\r\n",
    "%kql RawEventsVSCodeExt | where ExtensionName == \"ms-toolsai.jupyter\" | where EventName contains \"ms-toolsai.jupyter/datascience.notebook_trust_prompt_shown\" | summarize dcount(VSCodeMachineId)\r\n"
   ],
   "outputs": [],
   "metadata": {}
  }
 ],
 "metadata": {
  "orig_nbformat": 4,
  "language_info": {
   "name": "python",
   "version": "3.9.6",
   "mimetype": "text/x-python",
   "codemirror_mode": {
    "name": "ipython",
    "version": 3
   },
   "pygments_lexer": "ipython3",
   "nbconvert_exporter": "python",
   "file_extension": ".py"
  },
  "kernelspec": {
   "name": "python3",
   "display_name": "Python 3.9.6 64-bit (windows store)"
  },
  "interpreter": {
   "hash": "80f97fa3b34780e22298c6b9d6b34f546adccdc25ebd9f49472acdb98af000e0"
  }
 },
 "nbformat": 4,
 "nbformat_minor": 2
}