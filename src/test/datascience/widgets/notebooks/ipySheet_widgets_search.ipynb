{
    "cells": [
        {
            "cell_type": "markdown",
            "metadata": {},
            "source": [
                "# 2. Test Searching a Sheet (interact with textbox in a different cell)\n",
                "# Prerequisites\n",
                "\n",
                "### pip install ipysheet"
            ]
        },
        {
            "cell_type": "code",
            "execution_count": null,
            "metadata": {
                "scrolled": true
            },
            "outputs": [],
            "source": [
                "from ipywidgets import FloatSlider, IntSlider, Image\n",
                "import ipysheet\n",
                "\n",
                "\n",
                "import numpy as np\n",
                "import pandas as pd\n",
                "from ipysheet import from_dataframe\n",
                "from ipywidgets import Text, VBox, link\n",
                "\n",
                "df = pd.DataFrame({'A': 1.,\n",
                "                   'B': pd.Timestamp('20130102'),\n",
                "                   'C': pd.Series(1, index=list(range(4)), dtype='float32'),\n",
                "                   'D': np.array([False, True, False, False], dtype='bool'),\n",
                "                   'E': pd.Categorical([\"test\", \"train\", \"test\", \"train\"]),\n",
                "                   'F': 'foo'})\n",
                "\n",
                "df.loc[[0, 2], ['B']] = np.nan\n",
                "\n",
                "\n",
                "sheet2 = from_dataframe(df)\n",
                "\n",
                "search_box = Text(description='Search:')\n",
                "link((search_box, 'value'), (sheet2, 'search_token'))\n",
                "\n",
                "search_box"
            ]
        },
        {
            "cell_type": "code",
            "execution_count": null,
            "metadata": {},
            "outputs": [],
            "source": [
                "sheet2"
            ]
        }
    ],
    "metadata": {
        "celltoolbar": "Attachments",
        "file_extension": ".py",
        "interpreter": {
            "hash": "785edfce71b7b34600eacc1c40d1f7960d8cad3527bf2998465efd5555859783"
        },
        "kernelspec": {
            "display_name": "Python 3.8.12 ('.venvWidgets': venv)",
            "language": "python",
            "name": "python3"
        },
        "language_info": {
            "codemirror_mode": {
                "name": "ipython",
                "version": 3
            },
            "file_extension": ".py",
            "mimetype": "text/x-python",
            "name": "python",
            "nbconvert_exporter": "python",
            "pygments_lexer": "ipython3",
            "version": "3.8.12"
        },
        "mimetype": "text/x-python",
        "name": "python",
        "npconvert_exporter": "python",
        "pygments_lexer": "ipython3",
        "toc": {
            "base_numbering": 1,
            "nav_menu": {},
            "number_sections": false,
            "sideBar": false,
            "skip_h1_title": false,
            "title_cell": "Table of Contents",
            "title_sidebar": "Contents",
            "toc_cell": false,
            "toc_position": {},
            "toc_section_display": false,
            "toc_window_display": false
        },
        "version": 3
    },
    "nbformat": 4,
    "nbformat_minor": 2
}
