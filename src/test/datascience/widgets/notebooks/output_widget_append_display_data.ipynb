{
 "cells": [
  {
   "cell_type": "code",
   "execution_count": null,
   "metadata": {},
   "outputs": [],
   "source": [
    "import ipywidgets as widgets\n",
    "from IPython.display import display, HTML\n",
    "import time\n",
    "import threading\n",
    "\n",
    "# Create output widget\n",
    "output_widget = widgets.Output()\n",
    "display(output_widget)\n",
    "\n",
    "# Add some initial content\n",
    "with output_widget:\n",
    "    print('Initial output from Output widget')"
   ]
  },
  {
   "cell_type": "code",
   "execution_count": null,
   "metadata": {},
   "outputs": [],
   "source": [
    "# Test append_display_data with HTML content - this should work with the fix\n",
    "output_widget.append_display_data(HTML('<div class=\"test-html-content\">HTML content from append_display_data</div>'))"
   ]
  },
  {
   "cell_type": "code",
   "execution_count": null,
   "metadata": {},
   "outputs": [],
   "source": [
    "# Test append_display_data with plain text - this should also work\n",
    "from IPython.display import Markdown\n",
    "output_widget.append_display_data(Markdown('**Markdown content** from append_display_data'))"
   ]
  },
  {
   "cell_type": "code",
   "execution_count": null,
   "metadata": {},
   "outputs": [],
   "source": [
    "# Test async usage pattern from IPyWidgets documentation\n",
    "# https://ipywidgets.readthedocs.io/en/stable/examples/Output%20Widget.html#interacting-with-output-widgets-from-background-threads\n",
    "\n",
    "def work(output_widget):\n",
    "    \"\"\"Simulate some background work and append results\"\"\"\n",
    "    time.sleep(0.1)  # Simulate work\n",
    "    output_widget.append_display_data(HTML('<div class=\"async-content\">Async content from background thread</div>'))\n",
    "\n",
    "# Start background thread\n",
    "thread = threading.Thread(target=work, args=(output_widget,))\n",
    "thread.start()\n",
    "thread.join()  # Wait for completion"
   ]
  }
 ],
 "metadata": {
  "language_info": {
   "name": "python"
  },
  "orig_nbformat": 4
 },
 "nbformat": 4,
 "nbformat_minor": 2
}