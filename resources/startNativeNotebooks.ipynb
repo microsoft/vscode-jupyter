{
 "cells": [
  {
   "cell_type": "markdown",
   "metadata": {},
   "source": [
    "# Welcome to the New VS Code Notebook Experience! \r\n",
    "\r\n",
    "Whether you're new to the notebook experience in VS Code or a seasoned user, we'd like you to know that our experience has been revamped to provide:\r\n",
    "* Deep integration with the overall VS Code experience, including the ability to use editor extensions like VIM\r\n",
    "* Extremely fast notebook load times\r\n",
    "* A pleasing new look and feel\r\n",
    "* Many bug fixes\r\n",
    "\r\n",
    "To learn more about this new notebook experience and get a tour around, click here:  \r\n",
    "https://github.com/microsoft/vscode-jupyter/wiki/Introducing-Native-Notebooks  \r\n",
    "  \r\n",
    "Please be sure to let us know what you think of the new experience by filing an issue in our [repo](https://github.com/microsoft/vscode-jupyter/issues/new/choose). You may also be prompted to fill out an optional survey along the way. We would love it if you took some time to respond!\r\n",
    "  \r\n",
    "\r\n",
    "## Sincerely,  \r\n",
    "### The Jupyter Extension Team at Microsoft\r\n",
    "\r\n",
    "\r\n",
    "\r\n",
    "\r\n",
    "\r\n"
   ]
  }
 ],
 "metadata": {
  "kernelspec": {
   "language": "python"
  },
  "language_info": {
   "name": "python",
   "nbconvert_exporter": "python"
  },
  "orig_nbformat": 2
 },
 "nbformat": 4,
 "nbformat_minor": 2
}