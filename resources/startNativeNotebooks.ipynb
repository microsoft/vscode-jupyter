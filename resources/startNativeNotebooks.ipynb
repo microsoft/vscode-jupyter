{
 "cells": [
  {
   "cell_type": "markdown",
   "metadata": {},
   "source": [
    "# Welcome to Native Notebooks! \r\n",
    "\r\n",
    "## To learn more about the Native Notebooks experience and get a tour around, click here: https://github.com/microsoft/vscode-jupyter/wiki/Introducing-Native-Notebooks"
   ]
  }
 ],
 "metadata": {
  "kernelspec": {
   "language": "python"
  },
  "language_info": {
   "name": "python",
   "nbconvert_exporter": "python"
  },
  "orig_nbformat": 2
 },
 "nbformat": 4,
 "nbformat_minor": 2
}
