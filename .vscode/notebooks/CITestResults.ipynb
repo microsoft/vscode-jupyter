{
 "cells": [
  {
   "cell_type": "code",
   "execution_count": null,
   "metadata": {},
   "outputs": [],
   "source": [
    "# get an auth token using the steps here: https://docs.github.com/en/authentication/keeping-your-account-and-data-secure/creating-a-personal-access-token\n",
    "# set it in this cell, then delete it to avoid accidentally committing it\n",
    "authtoken = ''  "
   ]
  },
  {
   "cell_type": "code",
   "execution_count": null,
   "metadata": {},
   "outputs": [],
   "source": [
    "import os\n",
    "\n",
    "resultsDownloadLocation = 'c:\\\\temp\\\\testResults'\n",
    "if (not os.path.exists(resultsDownloadLocation)):\n",
    "    os.makedirs(resultsDownloadLocation)\n"
   ]
  },
  {
   "cell_type": "code",
   "execution_count": null,
   "metadata": {},
   "outputs": [],
   "source": [
    "import requests\n",
    "\n",
    "def getRuns():\n",
    "    runsResponse = requests.get(\n",
    "        \"https://api.github.com/repos/microsoft/vscode-jupyter/actions/workflows/aggregate-test-results.yml/runs?per_page=100\",\n",
    "        headers={\"Accept\": \"application/vnd.github+json\"},\n",
    "    )\n",
    "\n",
    "    print(f\"Found {len(runsResponse.json()['workflow_runs'])} runs\")\n",
    "\n",
    "    return runsResponse.json()[\"workflow_runs\"]\n",
    "\n",
    "runs = getRuns()"
   ]
  },
  {
   "cell_type": "code",
   "execution_count": null,
   "metadata": {},
   "outputs": [],
   "source": [
    "import zipfile\n",
    "import json\n",
    "import io\n",
    "\n",
    "def getArtifactData(id):\n",
    "    testResultsResponse = requests.get(\n",
    "        f\"https://api.github.com/repos/microsoft/vscode-jupyter/actions/artifacts/{id}/zip\",\n",
    "        headers={\n",
    "            \"Accept\": \"application/vnd.github+json\",\n",
    "            \"Authorization\": f\"Bearer {authtoken}\",\n",
    "        },\n",
    "    )\n",
    "\n",
    "    if testResultsResponse.status_code != 200:\n",
    "        print(f\"Error {testResultsResponse.status_code} getting artifact {id}\")\n",
    "\n",
    "    return testResultsResponse.content\n",
    "    \n",
    "def saveResultsFile(zipData):\n",
    "    with zipfile.ZipFile(io.BytesIO(zipData)) as artifact:\n",
    "        for name in artifact.namelist():\n",
    "            content = artifact.read(name)\n",
    "            print(f\"    saving {name}\")\n",
    "            with open(f'{resultsDownloadLocation}\\\\{name}', 'wb') as f:\n",
    "                f.write(content)\n",
    "        \n",
    "\n",
    "print(f\"Getting artifacts from {len(runs)} runs\")\n",
    "for run in runs:\n",
    "    artifactUrl = run[\"artifacts_url\"]\n",
    "    print(f\"Getting artifacts from {artifactUrl} from {run['created_at']}\")\n",
    "    artifactsResponse = requests.get(\n",
    "        artifactUrl, headers={\"Accept\": \"application/vnd.github+json\"}\n",
    "    )\n",
    "\n",
    "    artifacts = artifactsResponse.json()[\"artifacts\"]\n",
    "    for artifact in artifacts:\n",
    "        rawData = getArtifactData(artifact[\"id\"])\n",
    "        testRunResults = saveResultsFile(rawData)"
   ]
  },
  {
   "cell_type": "code",
   "execution_count": null,
   "metadata": {},
   "outputs": [],
   "source": [
    "for file in os.listdir (resultsDownloadLocation): \n",
    "    with open(f'{resultsDownloadLocation}\\\\{file}', 'r') as f:\n",
    "        print(len(json.loads(f.read())))"
   ]
  },
  {
   "cell_type": "code",
   "execution_count": null,
   "metadata": {},
   "outputs": [],
   "source": []
  }
 ],
 "metadata": {
  "kernelspec": {
   "display_name": "Python 3.9.13 ('venv2')",
   "language": "python",
   "name": "python3"
  },
  "language_info": {
   "codemirror_mode": {
    "name": "ipython",
    "version": 3
   },
   "file_extension": ".py",
   "mimetype": "text/x-python",
   "name": "python",
   "nbconvert_exporter": "python",
   "pygments_lexer": "ipython3",
   "version": "3.9.13"
  },
  "orig_nbformat": 4,
  "vscode": {
   "interpreter": {
    "hash": "8ad84c22a4e7ef64d099dabd51798018458b7ea207c73b8c8dcbf4767af43b0f"
   }
  }
 },
 "nbformat": 4,
 "nbformat_minor": 2
}
