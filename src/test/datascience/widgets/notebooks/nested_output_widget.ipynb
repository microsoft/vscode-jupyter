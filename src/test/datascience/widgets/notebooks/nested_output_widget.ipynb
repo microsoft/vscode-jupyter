{
 "cells": [
  {
   "cell_type": "code",
   "execution_count": null,
   "metadata": {},
   "outputs": [],
   "source": [
    "from ipywidgets import interact, interactive, fixed, interact_manual\n",
    "import ipywidgets as widgets\n",
    "from IPython.display import display\n",
    "\n",
    "out = widgets.Output()\n",
    "out"
   ]
  },
  {
   "cell_type": "code",
   "execution_count": null,
   "metadata": {},
   "outputs": [],
   "source": [
    "@out.capture()\n",
    "def function_with_captured_output():\n",
    "    print('First output widget')\n",
    "\n",
    "function_with_captured_output()"
   ]
  },
  {
   "cell_type": "code",
   "execution_count": null,
   "metadata": {},
   "outputs": [],
   "source": [
    "out2 = widgets.Output()\n",
    "caption = widgets.Label(value='Label Widget')\n",
    "textbox = widgets.Text()\n",
    "widgets.link((caption, 'value'), (textbox, 'value'))\n",
    "\n",
    "@out.capture()\n",
    "def function_with_captured_output():\n",
    "    display(out2)\n",
    "    display(caption)\n",
    "    display(textbox)\n",
    "\n",
    "function_with_captured_output()"
   ]
  },
  {
   "cell_type": "code",
   "execution_count": null,
   "metadata": {},
   "outputs": [],
   "source": [
    "@out2.capture()\n",
    "def function_with_captured_output2():\n",
    "    print('Second output widget')\n",
    "\n",
    "function_with_captured_output2()"
   ]
  }
 ],
 "metadata": {
  "language_info": {
   "name": "python"
  },
  "orig_nbformat": 4
 },
 "nbformat": 4,
 "nbformat_minor": 2
}
