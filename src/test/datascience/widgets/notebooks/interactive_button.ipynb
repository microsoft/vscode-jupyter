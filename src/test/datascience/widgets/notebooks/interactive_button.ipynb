{
 "cells": [
  {
   "cell_type": "code",
   "execution_count": null,
   "metadata": {},
   "outputs": [],
   "source": [
    "from IPython.display import display\n",
    "from ipywidgets import widgets, interactive\n",
    "button = widgets.Button(description=\"Click Me!\")\n",
    "def on_button_clicked(b):\n",
    "    print(\"Button clicked\")\n",
    "\n",
    "display(button)\n",
    "button.on_click(on_button_clicked)\n"
   ]
  }
 ],
 "metadata": {
  "language_info": {
   "name": "python"
  },
  "orig_nbformat": 4
 },
 "nbformat": 4,
 "nbformat_minor": 2
}
