{
    "cells": [
        {
            "cell_type": "markdown",
            "metadata": {},
            "source": [
                "# Prerequisites\n",
                "pip install beakerx"
            ]
        },
        {
            "cell_type": "code",
            "execution_count": 25,
            "metadata": {},
            "outputs": [],
            "source": [
                "from beakerx import *\n",
                "plot1 = Plot()\n",
                "plot1.add(Bars(displayName=\"Bar\", \n",
                "       x=[20,40,60], \n",
                "       y=[100, 120, 90], \n",
                "       width=10))"
            ]
        },
        {
            "cell_type": "code",
            "execution_count": 26,
            "metadata": {},
            "outputs": [],
            "source": [
                "import random\n",
                "from beakerx import *\n",
                "dataH4 = []\n",
                "\n",
                "for x in range(1, 1100000):\n",
                "  dataH4.append(random.gauss(0, 1))\n",
                "\n",
                "Histogram(data= dataH4, binCount= 10000)"
            ]
        }
    ],
    "metadata": {
        "language_info": {
            "codemirror_mode": {
                "name": "ipython",
                "version": 3
            },
            "file_extension": ".py",
            "mimetype": "text/x-python",
            "name": "python",
            "nbconvert_exporter": "python",
            "pygments_lexer": "ipython3",
            "version": "3.8.1-final"
        }
    },
    "nbformat": 4,
    "nbformat_minor": 1
}
