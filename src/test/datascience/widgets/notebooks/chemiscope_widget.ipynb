{
 "cells": [
  {
   "cell_type": "code",
   "execution_count": null,
   "metadata": {},
   "outputs": [],
   "source": [
    "import ase\n",
    "import chemiscope\n",
    "\n",
    "frames = [ase.Atoms(\"CO2\", positions=[(0, 0, 0), (-1.2, 0, 0), (1.2, 0, 0)])]\n",
    "properties = {\"foo\": [1], \"bar\": [1]}\n",
    "\n",
    "chemiscope.show(frames=frames, properties=properties)"
   ]
  }
 ],
 "metadata": {
  "kernelspec": {
   "display_name": "Python 3.10.4 ('.venv': venv)",
   "language": "python",
   "name": "python3"
  },
  "language_info": {
   "name": "python",
   "version": "3.10.4"
  },
  "orig_nbformat": 4,
  "vscode": {
   "interpreter": {
    "hash": "3e92710181ec3192aa395bcb1b9c11091ab9f2903fe9d13ece7731b54e008393"
   }
  }
 },
 "nbformat": 4,
 "nbformat_minor": 2
}
