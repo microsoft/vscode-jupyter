{
 "cells": [
  {
   "cell_type": "markdown",
   "metadata": {},
   "source": [
    "# Configuration\n",
    "\n",
    "Settings to be configured per individual. \n",
    "\n",
    "TODO: configure these settings outside of the notebook so they don't mess with source control. (environment variables?)"
   ]
  },
  {
   "cell_type": "code",
   "execution_count": null,
   "metadata": {},
   "outputs": [],
   "source": [
    "# get an auth token using the steps here: https://docs.github.com/en/authentication/keeping-your-account-and-data-secure/creating-a-personal-access-token\n",
    "# set it in this cell, then delete it to avoid accidentally committing it\n",
    "authtoken = ''  "
   ]
  },
  {
   "cell_type": "code",
   "execution_count": null,
   "metadata": {},
   "outputs": [],
   "source": [
    "import os\n",
    "\n",
    "resultsDownloadLocation = 'c:\\\\temp\\\\testResults'\n",
    "if (not os.path.exists(resultsDownloadLocation)):\n",
    "    os.makedirs(resultsDownloadLocation)\n"
   ]
  },
  {
   "cell_type": "markdown",
   "metadata": {},
   "source": [
    "# Loading Data"
   ]
  },
  {
   "cell_type": "code",
   "execution_count": null,
   "metadata": {},
   "outputs": [],
   "source": [
    "import requests\n",
    "\n",
    "def getRuns():\n",
    "    runsResponse = requests.get(\n",
    "        \"https://api.github.com/repos/microsoft/vscode-jupyter/actions/workflows/aggregate-test-results.yml/runs?per_page=30\",\n",
    "        headers={\n",
    "            \"Accept\": \"application/vnd.github+json\",\n",
    "            \"Authorization\": f\"Bearer {authtoken}\",\n",
    "            },   \n",
    "    )\n",
    "    \n",
    "    if runsResponse.status_code != 200:\n",
    "        print(f\"Error {runsResponse.status_code}\")\n",
    "        raise(\"Error getting runs\")\n",
    "\n",
    "    print(f\"Found {len(runsResponse.json()['workflow_runs'])} runs\")\n",
    "\n",
    "    return runsResponse.json()[\"workflow_runs\"]\n",
    "\n",
    "runs = getRuns()"
   ]
  },
  {
   "cell_type": "code",
   "execution_count": null,
   "metadata": {},
   "outputs": [],
   "source": [
    "from datetime import datetime\n",
    "\n",
    "alreadyDownloaded = {}\n",
    "for file in os.listdir(resultsDownloadLocation):\n",
    "    path = os.path.join(resultsDownloadLocation, file)\n",
    "    lastModified = datetime.fromtimestamp(os.path.getmtime(path))\n",
    "    alreadyDownloaded[file] = lastModified\n",
    "\n",
    "print(f\"Already downloaded {len(alreadyDownloaded)} result files, they will be skipped unless there is a newer version\")\n",
    "\n",
    "def shouldDownload(name, timestamp):\n",
    "    if name in alreadyDownloaded:\n",
    "        fileDate = datetime.strptime(timestamp, \"%Y-%m-%dT%H:%M:%SZ\")\n",
    "        if alreadyDownloaded[name] < fileDate:\n",
    "            alreadyDownloaded[name] = fileDate\n",
    "            return True\n",
    "        else:\n",
    "            return False\n",
    "    return True\n",
    "    "
   ]
  },
  {
   "cell_type": "code",
   "execution_count": null,
   "metadata": {},
   "outputs": [],
   "source": [
    "import zipfile\n",
    "import json\n",
    "import io\n",
    "\n",
    "def getArtifactData(id):\n",
    "    testResultsResponse = requests.get(\n",
    "        f\"https://api.github.com/repos/microsoft/vscode-jupyter/actions/artifacts/{id}/zip\",\n",
    "        headers={\n",
    "            \"Accept\": \"application/vnd.github+json\",\n",
    "            \"Authorization\": f\"Bearer {authtoken}\",\n",
    "        },\n",
    "    )\n",
    "\n",
    "    if testResultsResponse.status_code != 200:\n",
    "        print(f\"Error {testResultsResponse.status_code} getting artifact {id}\")\n",
    "\n",
    "    return testResultsResponse.content\n",
    "\n",
    "def saveResultsFile(zipData, timeStamp):\n",
    "    with zipfile.ZipFile(io.BytesIO(zipData)) as artifact:\n",
    "        for name in artifact.namelist():\n",
    "            print(f'checking {name} at {timeStamp}')\n",
    "            if shouldDownload(name, timeStamp):\n",
    "                content = artifact.read(name)\n",
    "                print(f\"    saving {name}\")\n",
    "                with open(f'{resultsDownloadLocation}\\\\{name}', 'wb') as f:\n",
    "                    f.write(content) \n",
    "\n",
    "print(f\"Getting artifacts from {len(runs)} runs\")\n",
    "for run in runs:\n",
    "    artifactUrl = run[\"artifacts_url\"]\n",
    "    print(f\"Getting artifacts from {artifactUrl} from {run['created_at']}\")\n",
    "    artifactsResponse = requests.get(\n",
    "        artifactUrl, headers={\"Accept\": \"application/vnd.github+json\"}\n",
    "    )\n",
    "\n",
    "    artifacts = artifactsResponse.json()[\"artifacts\"]\n",
    "    for artifact in artifacts:\n",
    "        rawData = getArtifactData(artifact[\"id\"])\n",
    "        testRunResults = saveResultsFile(rawData, run[\"created_at\"])"
   ]
  },
  {
   "cell_type": "code",
   "execution_count": null,
   "metadata": {},
   "outputs": [],
   "source": [
    "import pandas as pd\n",
    "\n",
    "testResults = []\n",
    "for file in os.listdir(resultsDownloadLocation): \n",
    "    with open(f'{resultsDownloadLocation}\\\\{file}', 'r') as f:\n",
    "        df = pd.read_json(f)\n",
    "        testResults.append(df)\n",
    "        \n",
    "df = pd.concat(testResults)\n",
    "# strip off the time to help grouping, but keep as datetime type\n",
    "df[\"datetime\"] = pd.to_datetime(df[\"date\"])\n",
    "df[\"date\"] = pd.to_datetime(df[\"date\"]).dt.date\n",
    "\n",
    "df.head()"
   ]
  },
  {
   "cell_type": "markdown",
   "metadata": {},
   "source": [
    "# Reporting"
   ]
  },
  {
   "cell_type": "code",
   "execution_count": null,
   "metadata": {},
   "outputs": [],
   "source": [
    "from datetime import date, timedelta\n",
    "recentFailures = df[df['date'] > date.today() - timedelta(days=7)]\n",
    "recentFailures = recentFailures[recentFailures['status'] == 'failed'].dropna()\n",
    "recentFailures = recentFailures.groupby(['testName']).agg(testName_count=('testName', 'count'))\n",
    "recentFaiulres = recentFailures.rename(columns={'testName_count': 'failureCount'}, inplace=True)\n",
    "\n",
    "recentFailures.sort_values(by=['failureCount'], ascending=False).head(20)"
   ]
  },
  {
   "cell_type": "code",
   "execution_count": null,
   "metadata": {},
   "outputs": [],
   "source": [
    "import matplotlib.pyplot as plt\n",
    "\n",
    "testName= 'Cells from python files and the input box are executed in correct order'\n",
    "\n",
    "testData = df.where(df['testName'] == testName).dropna()\n",
    "passes = testData.where(testData['status'] == 'passed').dropna()\n",
    "fails = testData.where(testData['status'] == 'failed').dropna()\n",
    "successRate = len(passes) / (len(passes) + len(fails))\n",
    "print(f\"'{testName}' failed {len(fails)} times between {testData['date'].min()} and {testData['date'].max()}\")\n",
    "print(f\"Success rate: {successRate}\")\n",
    "\n",
    "testData['fail'] = testData['status'] == 'failed'\n",
    "testData['pass'] = testData['status'] == 'passed'\n",
    "\n",
    "passfailcounts = testData.groupby(['date']).sum()\n",
    "\n",
    "passfailcounts.sort_values(by=['date'], ascending=False)\n",
    "\n",
    "# line chart not working\n",
    "# ax=testData.plot(kind='line', x='date', y='pass', color='Green')\n",
    "\n",
    "# ax2=testData.plot(kind='line', x='date', y='fail', secondary_y=True,color='Red', ax=ax)\n",
    "\n",
    "# ax.set_ylabel('Passes')\n",
    "# ax2.set_ylabel('Failures')\n",
    "# plt.tight_layout()\n",
    "# plt.show()"
   ]
  },
  {
   "cell_type": "code",
   "execution_count": null,
   "metadata": {},
   "outputs": [],
   "source": [
    "failures = testData.where(testData['status'] == 'failed').dropna()\n",
    "failures = failures[['date', 'status', 'scenario', 'runUrl']].sort_values(by=['date'], ascending=False).head(10)\n",
    "\n",
    "for index, row in failures.iterrows():\n",
    "    print(f\"{row['date']} - {row['scenario']}\\n{row['runUrl']}\")"
   ]
  }
 ],
 "metadata": {
  "kernelspec": {
   "display_name": "Python 3.9.13 ('venv2')",
   "language": "python",
   "name": "python3"
  },
  "language_info": {
   "codemirror_mode": {
    "name": "ipython",
    "version": 3
   },
   "file_extension": ".py",
   "mimetype": "text/x-python",
   "name": "python",
   "nbconvert_exporter": "python",
   "pygments_lexer": "ipython3",
   "version": "3.9.13"
  },
  "orig_nbformat": 4,
  "vscode": {
   "interpreter": {
    "hash": "8ad84c22a4e7ef64d099dabd51798018458b7ea207c73b8c8dcbf4767af43b0f"
   }
  }
 },
 "nbformat": 4,
 "nbformat_minor": 2
}
