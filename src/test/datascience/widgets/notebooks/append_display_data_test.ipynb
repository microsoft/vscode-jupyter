{
 "cells": [
  {
   "cell_type": "code",
   "execution_count": null,
   "metadata": {},
   "outputs": [],
   "source": [
    "import asyncio\n",
    "from IPython.display import display\n",
    "from ipywidgets import HTML, Output\n",
    "\n",
    "outputs = [Output() for _ in range(3)]\n",
    "display(*outputs)\n",
    "\n",
    "async def reproduce_bug():\n",
    "    for i in range(3):\n",
    "        await asyncio.sleep(0.01)\n",
    "        outputs[i].append_display_data(HTML(f\"Content {i}\"))\n",
    "\n",
    "asyncio.create_task(reproduce_bug())"
   ]
  },
  {
   "cell_type": "code",
   "execution_count": null,
   "metadata": {},
   "outputs": [],
   "source": [
    "# Test synchronous append_display_data (per comment from DonJayamanne)\n",
    "sync_outputs = [Output() for _ in range(2)]\n",
    "display(*sync_outputs)"
   ]
  },
  {
   "cell_type": "code",
   "execution_count": null,
   "metadata": {},
   "outputs": [],
   "source": [
    "sync_outputs[0].append_display_data(HTML(\"Sync Content 0\"))\n",
    "sync_outputs[1].append_display_data(HTML(\"Sync Content 1\"))"
   ]
  }
 ],
 "metadata": {
  "language_info": {
   "name": "python"
  },
  "orig_nbformat": 4
 },
 "nbformat": 4,
 "nbformat_minor": 2
}