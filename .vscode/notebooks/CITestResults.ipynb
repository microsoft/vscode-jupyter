{
 "cells": [
  {
   "cell_type": "code",
   "execution_count": 21,
   "metadata": {},
   "outputs": [],
   "source": [
    "# get an auth token using the steps here: https://docs.github.com/en/authentication/keeping-your-account-and-data-secure/creating-a-personal-access-token\n",
    "# set it in this cell, then delete it to avoid accidentally committing it\n",
    "authtoken = ''  "
   ]
  },
  {
   "cell_type": "code",
   "execution_count": 23,
   "metadata": {},
   "outputs": [],
   "source": [
    "import os\n",
    "\n",
    "resultsDownloadLocation = 'c:\\\\temp\\\\testResults'\n",
    "if (not os.path.exists(resultsDownloadLocation)):\n",
    "    os.makedirs(resultsDownloadLocation)\n"
   ]
  },
  {
   "cell_type": "code",
   "execution_count": 15,
   "metadata": {},
   "outputs": [
    {
     "name": "stdout",
     "output_type": "stream",
     "text": [
      "Found 30 runs\n"
     ]
    }
   ],
   "source": [
    "import requests\n",
    "\n",
    "def getRuns():\n",
    "    runsResponse = requests.get(\n",
    "        \"https://api.github.com/repos/microsoft/vscode-jupyter/actions/workflows/aggregate-test-results.yml/runs?per_page=100\",\n",
    "        headers={\"Accept\": \"application/vnd.github+json\"},\n",
    "    )\n",
    "\n",
    "    print(f\"Found {len(runsResponse.json()['workflow_runs'])} runs\")\n",
    "\n",
    "    return runsResponse.json()[\"workflow_runs\"]\n",
    "\n",
    "runs = getRuns()"
   ]
  },
  {
   "cell_type": "code",
   "execution_count": 24,
   "metadata": {},
   "outputs": [
    {
     "name": "stdout",
     "output_type": "stream",
     "text": [
      "Getting artifacts from 30 runs\n",
      "Getting artifacts from https://api.github.com/repos/microsoft/vscode-jupyter/actions/runs/3040888074/artifacts from 2022-09-12T22:06:21Z\n",
      "    saving AggTestResults-2022-09-01.json\n",
      "Getting artifacts from https://api.github.com/repos/microsoft/vscode-jupyter/actions/runs/3040887031/artifacts from 2022-09-12T22:06:11Z\n",
      "    saving AggTestResults-2022-09-02.json\n",
      "Getting artifacts from https://api.github.com/repos/microsoft/vscode-jupyter/actions/runs/3040876099/artifacts from 2022-09-12T22:04:13Z\n",
      "    saving AggTestResults-2022-09-04.json\n",
      "Getting artifacts from https://api.github.com/repos/microsoft/vscode-jupyter/actions/runs/3040874992/artifacts from 2022-09-12T22:04:05Z\n",
      "    saving AggTestResults-2022-09-05.json\n",
      "Getting artifacts from https://api.github.com/repos/microsoft/vscode-jupyter/actions/runs/3040874261/artifacts from 2022-09-12T22:03:55Z\n",
      "    saving AggTestResults-2022-09-06.json\n",
      "Getting artifacts from https://api.github.com/repos/microsoft/vscode-jupyter/actions/runs/3040851358/artifacts from 2022-09-12T21:59:50Z\n",
      "    saving AggTestResults-2022-09-07.json\n",
      "Getting artifacts from https://api.github.com/repos/microsoft/vscode-jupyter/actions/runs/3040849989/artifacts from 2022-09-12T21:59:33Z\n",
      "    saving AggTestResults-2022-09-08.json\n",
      "Getting artifacts from https://api.github.com/repos/microsoft/vscode-jupyter/actions/runs/3040624930/artifacts from 2022-09-12T21:16:03Z\n",
      "    saving AggTestResults-2022-09-09.json\n",
      "Getting artifacts from https://api.github.com/repos/microsoft/vscode-jupyter/actions/runs/3039727544/artifacts from 2022-09-12T18:40:38Z\n",
      "    saving AggTestResults-2022-09-11.json\n",
      "Getting artifacts from https://api.github.com/repos/microsoft/vscode-jupyter/actions/runs/3034377219/artifacts from 2022-09-12T02:55:47Z\n",
      "Getting artifacts from https://api.github.com/repos/microsoft/vscode-jupyter/actions/runs/3030293827/artifacts from 2022-09-11T02:54:32Z\n",
      "Getting artifacts from https://api.github.com/repos/microsoft/vscode-jupyter/actions/runs/3026469383/artifacts from 2022-09-10T02:54:35Z\n",
      "Getting artifacts from https://api.github.com/repos/microsoft/vscode-jupyter/actions/runs/3019647410/artifacts from 2022-09-09T02:54:34Z\n",
      "Getting artifacts from https://api.github.com/repos/microsoft/vscode-jupyter/actions/runs/3018493702/artifacts from 2022-09-08T21:49:11Z\n",
      "Getting artifacts from https://api.github.com/repos/microsoft/vscode-jupyter/actions/runs/3012145305/artifacts from 2022-09-08T02:54:49Z\n",
      "Getting artifacts from https://api.github.com/repos/microsoft/vscode-jupyter/actions/runs/3010924867/artifacts from 2022-09-07T21:43:59Z\n",
      "Getting artifacts from https://api.github.com/repos/microsoft/vscode-jupyter/actions/runs/3004744573/artifacts from 2022-09-07T02:55:22Z\n",
      "Getting artifacts from https://api.github.com/repos/microsoft/vscode-jupyter/actions/runs/3002941431/artifacts from 2022-09-06T19:44:50Z\n",
      "Getting artifacts from https://api.github.com/repos/microsoft/vscode-jupyter/actions/runs/3001918307/artifacts from 2022-09-06T16:46:34Z\n",
      "Getting artifacts from https://api.github.com/repos/microsoft/vscode-jupyter/actions/runs/3001903766/artifacts from 2022-09-06T16:43:40Z\n",
      "Getting artifacts from https://api.github.com/repos/microsoft/vscode-jupyter/actions/runs/2989996619/artifacts from 2022-09-04T23:48:13Z\n",
      "Getting artifacts from https://api.github.com/repos/microsoft/vscode-jupyter/actions/runs/2989981406/artifacts from 2022-09-04T23:42:42Z\n",
      "Getting artifacts from https://api.github.com/repos/microsoft/vscode-jupyter/actions/runs/2989893493/artifacts from 2022-09-04T23:11:14Z\n",
      "Getting artifacts from https://api.github.com/repos/microsoft/vscode-jupyter/actions/runs/2982676372/artifacts from 2022-09-03T01:00:57Z\n",
      "Getting artifacts from https://api.github.com/repos/microsoft/vscode-jupyter/actions/runs/2982471938/artifacts from 2022-09-02T23:51:55Z\n",
      "Getting artifacts from https://api.github.com/repos/microsoft/vscode-jupyter/actions/runs/2982415865/artifacts from 2022-09-02T23:34:55Z\n",
      "Getting artifacts from https://api.github.com/repos/microsoft/vscode-jupyter/actions/runs/2982325350/artifacts from 2022-09-02T23:07:48Z\n",
      "Getting artifacts from https://api.github.com/repos/microsoft/vscode-jupyter/actions/runs/2981982690/artifacts from 2022-09-02T21:34:44Z\n",
      "Getting artifacts from https://api.github.com/repos/microsoft/vscode-jupyter/actions/runs/2981956976/artifacts from 2022-09-02T21:28:42Z\n",
      "Getting artifacts from https://api.github.com/repos/microsoft/vscode-jupyter/actions/runs/2981854926/artifacts from 2022-09-02T21:05:44Z\n"
     ]
    }
   ],
   "source": [
    "import zipfile\n",
    "import json\n",
    "import io\n",
    "\n",
    "def getArtifactData(id):\n",
    "    testResultsResponse = requests.get(\n",
    "        f\"https://api.github.com/repos/microsoft/vscode-jupyter/actions/artifacts/{id}/zip\",\n",
    "        headers={\n",
    "            \"Accept\": \"application/vnd.github+json\",\n",
    "            \"Authorization\": f\"Bearer {authtoken}\",\n",
    "        },\n",
    "    )\n",
    "\n",
    "    if testResultsResponse.status_code != 200:\n",
    "        print(f\"Error {testResultsResponse.status_code} getting artifact {id}\")\n",
    "\n",
    "    return testResultsResponse.content\n",
    "    \n",
    "def saveResultsFile(zipData):\n",
    "    with zipfile.ZipFile(io.BytesIO(zipData)) as artifact:\n",
    "        for name in artifact.namelist():\n",
    "            content = artifact.read(name)\n",
    "            print(f\"    saving {name}\")\n",
    "            with open(f'{resultsDownloadLocation}\\\\{name}', 'wb') as f:\n",
    "                f.write(content)\n",
    "        \n",
    "\n",
    "print(f\"Getting artifacts from {len(runs)} runs\")\n",
    "for run in runs:\n",
    "    artifactUrl = run[\"artifacts_url\"]\n",
    "    print(f\"Getting artifacts from {artifactUrl} from {run['created_at']}\")\n",
    "    artifactsResponse = requests.get(\n",
    "        artifactUrl, headers={\"Accept\": \"application/vnd.github+json\"}\n",
    "    )\n",
    "\n",
    "    artifacts = artifactsResponse.json()[\"artifacts\"]\n",
    "    for artifact in artifacts:\n",
    "        rawData = getArtifactData(artifact[\"id\"])\n",
    "        testRunResults = saveResultsFile(rawData)"
   ]
  },
  {
   "cell_type": "code",
   "execution_count": null,
   "metadata": {},
   "outputs": [],
   "source": []
  }
 ],
 "metadata": {
  "kernelspec": {
   "display_name": "Python 3.9.13 ('venv2')",
   "language": "python",
   "name": "python3"
  },
  "language_info": {
   "codemirror_mode": {
    "name": "ipython",
    "version": 3
   },
   "file_extension": ".py",
   "mimetype": "text/x-python",
   "name": "python",
   "nbconvert_exporter": "python",
   "pygments_lexer": "ipython3",
   "version": "3.9.13"
  },
  "orig_nbformat": 4,
  "vscode": {
   "interpreter": {
    "hash": "8ad84c22a4e7ef64d099dabd51798018458b7ea207c73b8c8dcbf4767af43b0f"
   }
  }
 },
 "nbformat": 4,
 "nbformat_minor": 2
}
