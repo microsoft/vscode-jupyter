{
 "cells": [
  {
   "cell_type": "code",
   "execution_count": 21,
   "metadata": {},
   "outputs": [],
   "source": [
    "# get an auth token using the steps here: https://docs.github.com/en/authentication/keeping-your-account-and-data-secure/creating-a-personal-access-token\n",
    "# set it in this cell, then delete it to avoid accidentally committing it\n",
    "authtoken = ''  "
   ]
  },
  {
   "cell_type": "code",
   "execution_count": 23,
   "metadata": {},
   "outputs": [],
   "source": [
    "import os\n",
    "\n",
    "resultsDownloadLocation = 'c:\\\\temp\\\\testResults'\n",
    "if (not os.path.exists(resultsDownloadLocation)):\n",
    "    os.makedirs(resultsDownloadLocation)\n"
   ]
  },
  {
   "cell_type": "code",
   "execution_count": 15,
   "metadata": {},
   "outputs": [
    {
     "name": "stdout",
     "output_type": "stream",
     "text": [
      "Found 30 runs\n"
     ]
    }
   ],
   "source": [
    "import requests\n",
    "\n",
    "def getRuns():\n",
    "    runsResponse = requests.get(\n",
    "        \"https://api.github.com/repos/microsoft/vscode-jupyter/actions/workflows/aggregate-test-results.yml/runs?per_page=100\",\n",
    "        headers={\"Accept\": \"application/vnd.github+json\"},\n",
    "    )\n",
    "\n",
    "    print(f\"Found {len(runsResponse.json()['workflow_runs'])} runs\")\n",
    "\n",
    "    return runsResponse.json()[\"workflow_runs\"]\n",
    "\n",
    "runs = getRuns()"
   ]
  },
  {
   "cell_type": "code",
   "execution_count": 24,
   "metadata": {},
   "outputs": [
    {
     "name": "stdout",
     "output_type": "stream",
     "text": [
      "Getting artifacts from 30 runs\n",
      "Getting artifacts from https://api.github.com/repos/microsoft/vscode-jupyter/actions/runs/3040888074/artifacts from 2022-09-12T22:06:21Z\n",
      "    saving AggTestResults-2022-09-01.json\n",
      "Getting artifacts from https://api.github.com/repos/microsoft/vscode-jupyter/actions/runs/3040887031/artifacts from 2022-09-12T22:06:11Z\n",
      "    saving AggTestResults-2022-09-02.json\n",
      "Getting artifacts from https://api.github.com/repos/microsoft/vscode-jupyter/actions/runs/3040876099/artifacts from 2022-09-12T22:04:13Z\n",
      "    saving AggTestResults-2022-09-04.json\n",
      "Getting artifacts from https://api.github.com/repos/microsoft/vscode-jupyter/actions/runs/3040874992/artifacts from 2022-09-12T22:04:05Z\n",
      "    saving AggTestResults-2022-09-05.json\n",
      "Getting artifacts from https://api.github.com/repos/microsoft/vscode-jupyter/actions/runs/3040874261/artifacts from 2022-09-12T22:03:55Z\n",
      "    saving AggTestResults-2022-09-06.json\n",
      "Getting artifacts from https://api.github.com/repos/microsoft/vscode-jupyter/actions/runs/3040851358/artifacts from 2022-09-12T21:59:50Z\n",
      "    saving AggTestResults-2022-09-07.json\n",
      "Getting artifacts from https://api.github.com/repos/microsoft/vscode-jupyter/actions/runs/3040849989/artifacts from 2022-09-12T21:59:33Z\n",
      "    saving AggTestResults-2022-09-08.json\n",
      "Getting artifacts from https://api.github.com/repos/microsoft/vscode-jupyter/actions/runs/3040624930/artifacts from 2022-09-12T21:16:03Z\n",
      "    saving AggTestResults-2022-09-09.json\n",
      "Getting artifacts from https://api.github.com/repos/microsoft/vscode-jupyter/actions/runs/3039727544/artifacts from 2022-09-12T18:40:38Z\n",
      "    saving AggTestResults-2022-09-11.json\n",
      "Getting artifacts from https://api.github.com/repos/microsoft/vscode-jupyter/actions/runs/3034377219/artifacts from 2022-09-12T02:55:47Z\n",
      "Getting artifacts from https://api.github.com/repos/microsoft/vscode-jupyter/actions/runs/3030293827/artifacts from 2022-09-11T02:54:32Z\n",
      "Getting artifacts from https://api.github.com/repos/microsoft/vscode-jupyter/actions/runs/3026469383/artifacts from 2022-09-10T02:54:35Z\n",
      "Getting artifacts from https://api.github.com/repos/microsoft/vscode-jupyter/actions/runs/3019647410/artifacts from 2022-09-09T02:54:34Z\n",
      "Getting artifacts from https://api.github.com/repos/microsoft/vscode-jupyter/actions/runs/3018493702/artifacts from 2022-09-08T21:49:11Z\n",
      "Getting artifacts from https://api.github.com/repos/microsoft/vscode-jupyter/actions/runs/3012145305/artifacts from 2022-09-08T02:54:49Z\n",
      "Getting artifacts from https://api.github.com/repos/microsoft/vscode-jupyter/actions/runs/3010924867/artifacts from 2022-09-07T21:43:59Z\n",
      "Getting artifacts from https://api.github.com/repos/microsoft/vscode-jupyter/actions/runs/3004744573/artifacts from 2022-09-07T02:55:22Z\n",
      "Getting artifacts from https://api.github.com/repos/microsoft/vscode-jupyter/actions/runs/3002941431/artifacts from 2022-09-06T19:44:50Z\n",
      "Getting artifacts from https://api.github.com/repos/microsoft/vscode-jupyter/actions/runs/3001918307/artifacts from 2022-09-06T16:46:34Z\n",
      "Getting artifacts from https://api.github.com/repos/microsoft/vscode-jupyter/actions/runs/3001903766/artifacts from 2022-09-06T16:43:40Z\n",
      "Getting artifacts from https://api.github.com/repos/microsoft/vscode-jupyter/actions/runs/2989996619/artifacts from 2022-09-04T23:48:13Z\n",
      "Getting artifacts from https://api.github.com/repos/microsoft/vscode-jupyter/actions/runs/2989981406/artifacts from 2022-09-04T23:42:42Z\n",
      "Getting artifacts from https://api.github.com/repos/microsoft/vscode-jupyter/actions/runs/2989893493/artifacts from 2022-09-04T23:11:14Z\n",
      "Getting artifacts from https://api.github.com/repos/microsoft/vscode-jupyter/actions/runs/2982676372/artifacts from 2022-09-03T01:00:57Z\n",
      "Getting artifacts from https://api.github.com/repos/microsoft/vscode-jupyter/actions/runs/2982471938/artifacts from 2022-09-02T23:51:55Z\n",
      "Getting artifacts from https://api.github.com/repos/microsoft/vscode-jupyter/actions/runs/2982415865/artifacts from 2022-09-02T23:34:55Z\n",
      "Getting artifacts from https://api.github.com/repos/microsoft/vscode-jupyter/actions/runs/2982325350/artifacts from 2022-09-02T23:07:48Z\n",
      "Getting artifacts from https://api.github.com/repos/microsoft/vscode-jupyter/actions/runs/2981982690/artifacts from 2022-09-02T21:34:44Z\n",
      "Getting artifacts from https://api.github.com/repos/microsoft/vscode-jupyter/actions/runs/2981956976/artifacts from 2022-09-02T21:28:42Z\n",
      "Getting artifacts from https://api.github.com/repos/microsoft/vscode-jupyter/actions/runs/2981854926/artifacts from 2022-09-02T21:05:44Z\n"
     ]
    }
   ],
   "source": [
    "import zipfile\n",
    "import json\n",
    "import io\n",
    "\n",
    "def getArtifactData(id):\n",
    "    testResultsResponse = requests.get(\n",
    "        f\"https://api.github.com/repos/microsoft/vscode-jupyter/actions/artifacts/{id}/zip\",\n",
    "        headers={\n",
    "            \"Accept\": \"application/vnd.github+json\",\n",
    "            \"Authorization\": f\"Bearer {authtoken}\",\n",
    "        },\n",
    "    )\n",
    "\n",
    "    if testResultsResponse.status_code != 200:\n",
    "        print(f\"Error {testResultsResponse.status_code} getting artifact {id}\")\n",
    "\n",
    "    return testResultsResponse.content\n",
    "    \n",
    "def saveResultsFile(zipData):\n",
    "    with zipfile.ZipFile(io.BytesIO(zipData)) as artifact:\n",
    "        for name in artifact.namelist():\n",
    "            content = artifact.read(name)\n",
    "            print(f\"    saving {name}\")\n",
    "            with open(f'{resultsDownloadLocation}\\\\{name}', 'wb') as f:\n",
    "                f.write(content)\n",
    "        \n",
    "\n",
    "print(f\"Getting artifacts from {len(runs)} runs\")\n",
    "for run in runs:\n",
    "    artifactUrl = run[\"artifacts_url\"]\n",
    "    print(f\"Getting artifacts from {artifactUrl} from {run['created_at']}\")\n",
    "    artifactsResponse = requests.get(\n",
    "        artifactUrl, headers={\"Accept\": \"application/vnd.github+json\"}\n",
    "    )\n",
    "\n",
    "    artifacts = artifactsResponse.json()[\"artifacts\"]\n",
    "    for artifact in artifacts:\n",
    "        rawData = getArtifactData(artifact[\"id\"])\n",
    "        testRunResults = saveResultsFile(rawData)"
   ]
  },
  {
   "cell_type": "code",
   "execution_count": 28,
   "metadata": {},
   "outputs": [
    {
     "ename": "JSONDecodeError",
     "evalue": "Expecting value: line 18104 column 1 (char 5730549)",
     "output_type": "error",
     "traceback": [
      "\u001b[1;31m---------------------------------------------------------------------------\u001b[0m",
      "\u001b[1;31mJSONDecodeError\u001b[0m                           Traceback (most recent call last)",
      "\u001b[1;32mc:\\src\\vscode-jupyter\\.vscode\\notebooks\\CITestResults.ipynb Cell 5\u001b[0m in \u001b[0;36m<cell line: 1>\u001b[1;34m()\u001b[0m\n\u001b[0;32m      <a href='vscode-notebook-cell:/c%3A/src/vscode-jupyter/.vscode/notebooks/CITestResults.ipynb#W3sZmlsZQ%3D%3D?line=0'>1</a>\u001b[0m \u001b[39mfor\u001b[39;00m file \u001b[39min\u001b[39;00m os\u001b[39m.\u001b[39mlistdir (resultsDownloadLocation): \n\u001b[0;32m      <a href='vscode-notebook-cell:/c%3A/src/vscode-jupyter/.vscode/notebooks/CITestResults.ipynb#W3sZmlsZQ%3D%3D?line=1'>2</a>\u001b[0m     \u001b[39mwith\u001b[39;00m \u001b[39mopen\u001b[39m(\u001b[39mf\u001b[39m\u001b[39m'\u001b[39m\u001b[39m{\u001b[39;00mresultsDownloadLocation\u001b[39m}\u001b[39;00m\u001b[39m\\\\\u001b[39;00m\u001b[39m{\u001b[39;00mfile\u001b[39m}\u001b[39;00m\u001b[39m'\u001b[39m, \u001b[39m'\u001b[39m\u001b[39mr\u001b[39m\u001b[39m'\u001b[39m) \u001b[39mas\u001b[39;00m f:\n\u001b[1;32m----> <a href='vscode-notebook-cell:/c%3A/src/vscode-jupyter/.vscode/notebooks/CITestResults.ipynb#W3sZmlsZQ%3D%3D?line=2'>3</a>\u001b[0m         \u001b[39mprint\u001b[39m(\u001b[39mlen\u001b[39m(json\u001b[39m.\u001b[39;49mloads(f\u001b[39m.\u001b[39;49mread())))\n",
      "File \u001b[1;32mC:\\Program Files\\WindowsApps\\PythonSoftwareFoundation.Python.3.9_3.9.3568.0_x64__qbz5n2kfra8p0\\lib\\json\\__init__.py:346\u001b[0m, in \u001b[0;36mloads\u001b[1;34m(s, cls, object_hook, parse_float, parse_int, parse_constant, object_pairs_hook, **kw)\u001b[0m\n\u001b[0;32m    341\u001b[0m     s \u001b[39m=\u001b[39m s\u001b[39m.\u001b[39mdecode(detect_encoding(s), \u001b[39m'\u001b[39m\u001b[39msurrogatepass\u001b[39m\u001b[39m'\u001b[39m)\n\u001b[0;32m    343\u001b[0m \u001b[39mif\u001b[39;00m (\u001b[39mcls\u001b[39m \u001b[39mis\u001b[39;00m \u001b[39mNone\u001b[39;00m \u001b[39mand\u001b[39;00m object_hook \u001b[39mis\u001b[39;00m \u001b[39mNone\u001b[39;00m \u001b[39mand\u001b[39;00m\n\u001b[0;32m    344\u001b[0m         parse_int \u001b[39mis\u001b[39;00m \u001b[39mNone\u001b[39;00m \u001b[39mand\u001b[39;00m parse_float \u001b[39mis\u001b[39;00m \u001b[39mNone\u001b[39;00m \u001b[39mand\u001b[39;00m\n\u001b[0;32m    345\u001b[0m         parse_constant \u001b[39mis\u001b[39;00m \u001b[39mNone\u001b[39;00m \u001b[39mand\u001b[39;00m object_pairs_hook \u001b[39mis\u001b[39;00m \u001b[39mNone\u001b[39;00m \u001b[39mand\u001b[39;00m \u001b[39mnot\u001b[39;00m kw):\n\u001b[1;32m--> 346\u001b[0m     \u001b[39mreturn\u001b[39;00m _default_decoder\u001b[39m.\u001b[39;49mdecode(s)\n\u001b[0;32m    347\u001b[0m \u001b[39mif\u001b[39;00m \u001b[39mcls\u001b[39m \u001b[39mis\u001b[39;00m \u001b[39mNone\u001b[39;00m:\n\u001b[0;32m    348\u001b[0m     \u001b[39mcls\u001b[39m \u001b[39m=\u001b[39m JSONDecoder\n",
      "File \u001b[1;32mC:\\Program Files\\WindowsApps\\PythonSoftwareFoundation.Python.3.9_3.9.3568.0_x64__qbz5n2kfra8p0\\lib\\json\\decoder.py:337\u001b[0m, in \u001b[0;36mJSONDecoder.decode\u001b[1;34m(self, s, _w)\u001b[0m\n\u001b[0;32m    332\u001b[0m \u001b[39mdef\u001b[39;00m \u001b[39mdecode\u001b[39m(\u001b[39mself\u001b[39m, s, _w\u001b[39m=\u001b[39mWHITESPACE\u001b[39m.\u001b[39mmatch):\n\u001b[0;32m    333\u001b[0m     \u001b[39m\"\"\"Return the Python representation of ``s`` (a ``str`` instance\u001b[39;00m\n\u001b[0;32m    334\u001b[0m \u001b[39m    containing a JSON document).\u001b[39;00m\n\u001b[0;32m    335\u001b[0m \n\u001b[0;32m    336\u001b[0m \u001b[39m    \"\"\"\u001b[39;00m\n\u001b[1;32m--> 337\u001b[0m     obj, end \u001b[39m=\u001b[39m \u001b[39mself\u001b[39;49m\u001b[39m.\u001b[39;49mraw_decode(s, idx\u001b[39m=\u001b[39;49m_w(s, \u001b[39m0\u001b[39;49m)\u001b[39m.\u001b[39;49mend())\n\u001b[0;32m    338\u001b[0m     end \u001b[39m=\u001b[39m _w(s, end)\u001b[39m.\u001b[39mend()\n\u001b[0;32m    339\u001b[0m     \u001b[39mif\u001b[39;00m end \u001b[39m!=\u001b[39m \u001b[39mlen\u001b[39m(s):\n",
      "File \u001b[1;32mC:\\Program Files\\WindowsApps\\PythonSoftwareFoundation.Python.3.9_3.9.3568.0_x64__qbz5n2kfra8p0\\lib\\json\\decoder.py:355\u001b[0m, in \u001b[0;36mJSONDecoder.raw_decode\u001b[1;34m(self, s, idx)\u001b[0m\n\u001b[0;32m    353\u001b[0m     obj, end \u001b[39m=\u001b[39m \u001b[39mself\u001b[39m\u001b[39m.\u001b[39mscan_once(s, idx)\n\u001b[0;32m    354\u001b[0m \u001b[39mexcept\u001b[39;00m \u001b[39mStopIteration\u001b[39;00m \u001b[39mas\u001b[39;00m err:\n\u001b[1;32m--> 355\u001b[0m     \u001b[39mraise\u001b[39;00m JSONDecodeError(\u001b[39m\"\u001b[39m\u001b[39mExpecting value\u001b[39m\u001b[39m\"\u001b[39m, s, err\u001b[39m.\u001b[39mvalue) \u001b[39mfrom\u001b[39;00m \u001b[39mNone\u001b[39m\n\u001b[0;32m    356\u001b[0m \u001b[39mreturn\u001b[39;00m obj, end\n",
      "\u001b[1;31mJSONDecodeError\u001b[0m: Expecting value: line 18104 column 1 (char 5730549)"
     ]
    }
   ],
   "source": [
    "for file in os.listdir (resultsDownloadLocation): \n",
    "    with open(f'{resultsDownloadLocation}\\\\{file}', 'r') as f:\n",
    "        print(len(json.loads(f.read())))"
   ]
  },
  {
   "cell_type": "code",
   "execution_count": null,
   "metadata": {},
   "outputs": [],
   "source": []
  }
 ],
 "metadata": {
  "kernelspec": {
   "display_name": "Python 3.9.13 ('venv2')",
   "language": "python",
   "name": "python3"
  },
  "language_info": {
   "codemirror_mode": {
    "name": "ipython",
    "version": 3
   },
   "file_extension": ".py",
   "mimetype": "text/x-python",
   "name": "python",
   "nbconvert_exporter": "python",
   "pygments_lexer": "ipython3",
   "version": "3.9.13"
  },
  "orig_nbformat": 4,
  "vscode": {
   "interpreter": {
    "hash": "8ad84c22a4e7ef64d099dabd51798018458b7ea207c73b8c8dcbf4767af43b0f"
   }
  }
 },
 "nbformat": 4,
 "nbformat_minor": 2
}
