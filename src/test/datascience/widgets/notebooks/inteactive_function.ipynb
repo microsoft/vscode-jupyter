{
 "cells": [
  {
   "cell_type": "code",
   "execution_count": null,
   "metadata": {},
   "outputs": [],
   "source": [
    "from ipywidgets import widgets, interact\n",
    "def do_something(filter_text):\n",
    "    print(f\"Executing do_something with '{filter_text}'\")\n",
    "    return filter_text\n",
    "    \n",
    "    \n",
    "interact(do_something, filter_text=widgets.Text(value='Foo'))\n",
    "do_something('Hello World')"
   ]
  }
 ],
 "metadata": {
  "language_info": {
   "name": "python"
  },
  "orig_nbformat": 4
 },
 "nbformat": 4,
 "nbformat_minor": 2
}
