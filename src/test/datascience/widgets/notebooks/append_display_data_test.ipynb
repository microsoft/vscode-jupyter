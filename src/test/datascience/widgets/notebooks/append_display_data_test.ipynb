{
 "cells": [
  {
   "cell_type": "markdown",
   "metadata": {},
   "source": [
    "# Output Widget append_display_data Test\n",
    "\n",
    "This notebook tests the functionality of `append_display_data()` on Output widgets.\n",
    "The issue described in [#16739](https://github.com/microsoft/vscode-jupyter/issues/16739) is that content added asynchronously via `append_display_data()` doesn't appear in VS Code."
   ]
  },
  {
   "cell_type": "code",
   "execution_count": null,
   "metadata": {},
   "outputs": [],
   "source": [
    "import asyncio\n",
    "from IPython.display import display, HTML\n",
    "from ipywidgets import Output"
   ]
  },
  {
   "cell_type": "markdown",
   "metadata": {},
   "source": [
    "## Test 1: Synchronous append_display_data\n",
    "\n",
    "According to @DonJayamanne's comment, even synchronous calls don't work."
   ]
  },
  {
   "cell_type": "code",
   "execution_count": null,
   "metadata": {},
   "outputs": [],
   "source": [
    "# Create output widgets\n",
    "sync_outputs = [Output() for _ in range(2)]\n",
    "display(*sync_outputs)"
   ]
  },
  {
   "cell_type": "code",
   "execution_count": null,
   "metadata": {},
   "outputs": [],
   "source": [
    "# Append content synchronously\n",
    "sync_outputs[0].append_display_data(HTML(\"<div style='color: green; font-weight: bold;'>✅ Sync Content 0 - This should appear!</div>\"))\n",
    "sync_outputs[1].append_display_data(HTML(\"<div style='color: blue; font-weight: bold;'>✅ Sync Content 1 - This should appear!</div>\"))"
   ]
  },
  {
   "cell_type": "markdown",
   "metadata": {},
   "source": [
    "## Test 2: Asynchronous append_display_data\n",
    "\n",
    "This was the original issue - async content doesn't appear."
   ]
  },
  {
   "cell_type": "code",
   "execution_count": null,
   "metadata": {},
   "outputs": [],
   "source": [
    "# Create output widgets for async test\n",
    "async_outputs = [Output() for _ in range(3)]\n",
    "display(*async_outputs)\n",
    "\n",
    "async def append_async_content():\n",
    "    for i in range(3):\n",
    "        await asyncio.sleep(0.1)  # Small delay\n",
    "        color = ['red', 'orange', 'purple'][i]\n",
    "        async_outputs[i].append_display_data(\n",
    "            HTML(f\"<div style='color: {color}; font-weight: bold;'>✅ Async Content {i} - This should appear!</div>\")\n",
    "        )\n",
    "\n",
    "# Start the async task\n",
    "asyncio.create_task(append_async_content())"
   ]
  },
  {
   "cell_type": "markdown",
   "metadata": {},
   "source": [
    "## Test 3: Mixed content types\n",
    "\n",
    "Test with different content types (HTML, text, etc.)"
   ]
  },
  {
   "cell_type": "code",
   "execution_count": null,
   "metadata": {},
   "outputs": [],
   "source": [
    "# Create output widget for mixed content\n",
    "mixed_output = Output()\n",
    "display(mixed_output)\n",
    "\n",
    "# Add different types of content\n",
    "mixed_output.append_display_data(HTML(\"<h3>HTML Content</h3>\"))\n",
    "mixed_output.append_display_data({\"text/plain\": \"Plain text content\"})\n",
    "mixed_output.append_display_data(HTML(\"<p style='color: green;'>More HTML content</p>\"))"
   ]
  },
  {
   "cell_type": "markdown",
   "metadata": {},
   "source": [
    "## Expected Results\n",
    "\n",
    "- **Before fix**: Content doesn't appear in Output widgets, console shows \"Model not found in Kernel state to render output\" errors\n",
    "- **After fix**: All content should appear properly in the respective Output widgets\n",
    "\n",
    "If you see the colored text content in the Output widgets above, the fix is working!"
   ]
  }
 ],
 "metadata": {
  "kernelspec": {
   "display_name": "Python 3",
   "language": "python",
   "name": "python3"
  },
  "language_info": {
   "codemirror_mode": {
    "name": "ipython",
    "version": 3
   },
   "file_extension": ".py",
   "mimetype": "text/x-python",
   "name": "python",
   "nbconvert_exporter": "python",
   "pygments_lexer": "ipython3",
   "version": "3.8.0"
  }
 },
 "nbformat": 4,
 "nbformat_minor": 4
}