{
    "cells": [
        {
            "cell_type": "code",
            "execution_count": null,
            "metadata": {},
            "outputs": [],
            "source": [
                "a = \"Hello World\""
            ]
        },
        {
            "cell_type": "code",
            "execution_count": null,
            "metadata": {},
            "outputs": [],
            "source": [
                "print(a)"
            ]
        }
    ],
    "metadata": {
        "file_extension": ".py",
        "kernelspec": {
            "display_name": "Python 3",
            "language": "python",
            "name": "python3"
        },
        "language_info": {
            "name": "python",
            "version": "3.8.2-final"
        },
        "mimetype": "text/x-python",
        "name": "python",
        "orig_nbformat": 2,
        "version": 3
    },
    "nbformat": 4,
    "nbformat_minor": 2
}