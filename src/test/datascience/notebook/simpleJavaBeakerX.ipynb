{
 "cells": [
  {
   "cell_type": "code",
   "execution_count": 1,
   "metadata": {},
   "outputs": [
   ],
   "source": [
    "import java.io.*; \n",
    "System.out.println(\"Hello World\"); "
   ]
  }
 ],
 "metadata": {
  "kernelspec": {
   "language": "java",
   "name": "java"
  },
  "language_info": {
   "codemirror_mode": "text/x-java",
   "file_extension": ".java",
   "mimetype": "",
   "name": "Java",
   "nbconverter_exporter": "",
   "version": "11.0.8"
  }
 },
 "nbformat": 4,
 "nbformat_minor": 4
}
