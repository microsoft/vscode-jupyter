{
 "cells": [
  {
   "cell_type": "code",
   "execution_count": 2,
   "metadata": {},
   "outputs": [],
   "source": [
    "from github import Github\n",
    "\n",
    "g = Github('')"
   ]
  },
  {
   "cell_type": "code",
   "execution_count": 3,
   "metadata": {},
   "outputs": [
    {
     "name": "stdout",
     "output_type": "stream",
     "text": [
      "azureml\n",
      "cell-magics\n",
      "conda\n",
      "data-prep\n",
      "data-viewer\n",
      "dotnet-interactive\n",
      "gather\n",
      "interactive-window\n",
      "interactive-window-debugging\n",
      "ipywidgets\n",
      "kernel-crash\n",
      "kernel-enumeration\n",
      "kernel-management\n",
      "language-any\n",
      "language-julia\n",
      "language-python\n",
      "language-python-environment\n",
      "language-R\n",
      "notebook\n",
      "notebook-automated-testing\n",
      "notebook-codespaces\n",
      "notebook-compatibility\n",
      "notebook-debugging\n",
      "notebook-diff\n",
      "notebook-execution\n",
      "notebook-extensibility\n",
      "notebook-getting-started\n",
      "notebook-import-export\n",
      "notebook-intellisense\n",
      "notebook-kernel\n",
      "notebook-keybinding\n",
      "notebook-liveshare\n",
      "notebook-markdown\n",
      "notebook-output\n",
      "notebook-params-papermill\n",
      "notebook-polyglot\n",
      "notebook-remote\n",
      "notebook-run-by-line\n",
      "notebook-serialization-save-load\n",
      "notebook-templates\n",
      "notebook-toc-outline\n",
      "plot-viewer\n",
      "pyspark\n",
      "pytorch\n",
      "telemetry\n",
      "variable-explorer\n",
      "vscode-web\n",
      "webview-cleanup\n",
      "webview-notebook\n",
      "WSL\n"
     ]
    }
   ],
   "source": [
    "repo_jupyter = g.get_repo('microsoft/vscode-jupyter')\n",
    "\n",
    "for l in repo_jupyter.get_labels():\n",
    "    if (l.color == 'c5def5'):\n",
    "        print(l.name)   \n"
   ]
  },
  {
   "cell_type": "code",
   "execution_count": 7,
   "metadata": {},
   "outputs": [
    {
     "name": "stdout",
     "output_type": "stream",
     "text": [
      "data-prep\n",
      "data-viewer\n",
      "interactive-window\n",
      "ipywidgets\n",
      "language-any\n",
      "notebook-codespaces\n",
      "notebook-extensibility\n",
      "notebook-getting-started\n",
      "notebook-intellisense\n",
      "notebook-kernel\n",
      "notebook-liveshare\n",
      "notebook-output\n",
      "notebook-polyglot\n",
      "notebook-remote\n",
      "notebook-run-by-line\n",
      "notebook-templates\n",
      "security\n",
      "telemetry\n",
      "variable-explorer\n",
      "webview-cleanup\n"
     ]
    }
   ],
   "source": [
    "repo_jupyter_internal = g.get_repo('microsoft/vscode-jupyter-internal')\n",
    "\n",
    "for l in repo_jupyter_internal.get_labels():\n",
    "    if (l.color == 'c5def5'):\n",
    "        print(l.name)   \n"
   ]
  },
  {
   "cell_type": "code",
   "execution_count": 14,
   "metadata": {},
   "outputs": [
    {
     "name": "stdout",
     "output_type": "stream",
     "text": [
      "interactive-window\n",
      "notebook-api\n",
      "notebook-cell-editor\n",
      "notebook-celltoolbar\n",
      "notebook-clipboard\n",
      "notebook-debugging\n",
      "notebook-diff\n",
      "notebook-dnd\n",
      "notebook-find\n",
      "notebook-folding\n",
      "notebook-getting-started\n",
      "notebook-globaltoolbar\n",
      "notebook-intellisense\n",
      "notebook-ipynb\n",
      "notebook-kernel\n",
      "notebook-keybinding\n",
      "notebook-layout\n",
      "notebook-markdown\n",
      "notebook-math\n",
      "notebook-minimap\n",
      "notebook-multiselect\n",
      "notebook-output\n",
      "notebook-perf\n",
      "notebook-remote\n",
      "notebook-serialization\n",
      "notebook-serverless-web\n",
      "notebook-statusbar\n",
      "notebook-toc-outline\n"
     ]
    }
   ],
   "source": [
    "repo_vscode = g.get_repo('microsoft/vscode')\n",
    "\n",
    "for l in repo_vscode.get_labels():\n",
    "    if (l.color == 'c5def5' and l.name.startswith('notebook-') or l.name.startswith('interactive-window')):\n",
    "        print(l.name)   \n"
   ]
  },
  {
   "cell_type": "code",
   "execution_count": null,
   "metadata": {},
   "outputs": [],
   "source": [
    "repo_jupyter.get_issues()"
   ]
  }
 ],
 "metadata": {
  "interpreter": {
   "hash": "a66436d0ae1e9195eba01214c42fc385927df30e8b67f4a212cd86017571fa36"
  },
  "kernelspec": {
   "display_name": "Python 3.7.10 64-bit ('base': conda)",
   "name": "python3"
  },
  "language_info": {
   "codemirror_mode": {
    "name": "ipython",
    "version": 3
   },
   "file_extension": ".py",
   "mimetype": "text/x-python",
   "name": "python",
   "nbconvert_exporter": "python",
   "pygments_lexer": "ipython3",
   "version": "3.7.10"
  },
  "orig_nbformat": 4
 },
 "nbformat": 4,
 "nbformat_minor": 2
}
