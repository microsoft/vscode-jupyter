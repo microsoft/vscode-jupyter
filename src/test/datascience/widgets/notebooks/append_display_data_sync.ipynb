{
 "cells": [
  {
   "cell_type": "code",
   "execution_count": null,
   "id": "0b12e473",
   "metadata": {},
   "outputs": [],
   "source": [
    "from IPython.display import display\n",
    "from ipywidgets import HTML, Output\n",
    "outputs = [Output() for _ in range(2)]\n",
    "display(*outputs)"
   ]
  },
  {
   "cell_type": "code",
   "execution_count": null,
   "id": "d40efbc0",
   "metadata": {},
   "outputs": [],
   "source": [
    "outputs[0].append_display_data(HTML(\"Content 0\"))"
   ]
  }
 ],
 "metadata": {
  "language_info": {
   "name": "python"
  }
 },
 "nbformat": 4,
 "nbformat_minor": 5
}
