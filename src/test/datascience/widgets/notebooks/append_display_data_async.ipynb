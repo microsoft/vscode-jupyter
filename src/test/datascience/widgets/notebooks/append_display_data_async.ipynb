{
 "cells": [
  {
   "cell_type": "code",
   "execution_count": null,
   "id": "a0f3c2c2",
   "metadata": {},
   "outputs": [],
   "source": [
    "import asyncio\n",
    "from IPython.display import display\n",
    "from ipywidgets import HTML, Output\n",
    "outputs = [Output() for _ in range(10)]\n",
    "display(*outputs)\n",
    "async def reproduce_bug():\n",
    "    for i in range(10):\n",
    "        await asyncio.sleep(0.01)\n",
    "        outputs[i].append_display_data(HTML(f\"Content {i}\"))\n",
    "asyncio.create_task(reproduce_bug())"
   ]
  }
 ],
 "metadata": {
  "language_info": {
   "name": "python"
  }
 },
 "nbformat": 4,
 "nbformat_minor": 5
}
